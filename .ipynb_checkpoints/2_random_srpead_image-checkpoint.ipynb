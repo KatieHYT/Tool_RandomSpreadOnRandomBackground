{
 "cells": [
  {
   "cell_type": "code",
   "execution_count": 1,
   "metadata": {
    "collapsed": true
   },
   "outputs": [],
   "source": [
    "%matplotlib inline\n",
    "import numpy as np\n",
    "import skimage.io as io\n",
    "import matplotlib.pyplot as plt\n",
    "import os\n",
    "import random\n",
    "from skimage.transform import resize \n",
    "from imgaug import augmenters as iaa\n"
   ]
  },
  {
   "cell_type": "code",
   "execution_count": 2,
   "metadata": {
    "code_folding": [
     0
    ],
    "collapsed": true
   },
   "outputs": [],
   "source": [
    "def get_fname(full_name):\n",
    "    file_name = os.path.basename(full_name)\n",
    "    file_name = os.path.splitext(file_name)[0]\n",
    "    return file_name"
   ]
  },
  {
   "cell_type": "code",
   "execution_count": 3,
   "metadata": {
    "code_folding": []
   },
   "outputs": [],
   "source": [
    "def my_aug(pics):\n",
    "    # at labels generating step, we will not useaugmentation that would influence  0 value of background\n",
    "    '''input  : [img, mask]'''\n",
    "    '''output : [aug_img, aug_mask]''' \n",
    "    \n",
    "    h = pics[0].shape[0]\n",
    "    w = pics[0].shape[1]\n",
    "    h_r = random.uniform(0.8, 5)\n",
    "    w_r = random.uniform(0.8, 5)\n",
    "           \n",
    "    aug = iaa.Sequential(\n",
    "        [\n",
    "    \n",
    "            iaa.Sometimes(0.3, iaa.Flipud(0.3)),\n",
    "            iaa.Sometimes(0.3, iaa.Affine(rotate=(0,360))),      \n",
    "\n",
    "            iaa.SomeOf(2, [\n",
    "                iaa.Fliplr(0.5),\n",
    "                iaa.Scale((int(np.floor(h*h_r)), int(np.floor(w*w_r)))),\n",
    "                iaa.Scale((int(np.floor(h*h_r)), int(np.floor(w*h_r)))),\n",
    "            ])\n",
    "        ])\n",
    "    # let every round use a same augmentation\n",
    "    augDet = aug.to_deterministic()\n",
    "    \n",
    "    \n",
    "    aug_pics=list()\n",
    "    for i in range(pics.shape[0]):\n",
    "    #         print('aug_process: %d/%d' %(i, pics.shape[0]))\n",
    "        aug_pics.append(augDet.augment_image(pics[i]))\n",
    "    \n",
    "    \n",
    "    return aug_pics"
   ]
  },
  {
   "cell_type": "code",
   "execution_count": 4,
   "metadata": {
    "collapsed": true
   },
   "outputs": [],
   "source": [
    "def random_spread(IMG_DIR, MSK_DIR,bg_paper, bump, bump_tolerance):\n",
    "    n_mask_list = []\n",
    "    while bump<bump_tolerance:\n",
    "    \n",
    "        tmp_names = os.listdir(IMG_DIR)\n",
    "        img_names = [get_fname(i) for i in tmp_names]\n",
    "        # random choose target img_id\n",
    "        name = random.choice(img_names)\n",
    "#         print('name: %s' % (name))\n",
    "\n",
    "\n",
    "        # load image and corresponding mask\n",
    "        img_ori = io.imread(os.path.join(IMG_DIR, name+'.jpg'))\n",
    "        msk_ori = io.imread(os.path.join(MSK_DIR, name+'_moth_'+name+'.png'))\n",
    "        mskk = (msk_ori/255)\n",
    "        pure_img = (img_ori*mskk).astype('uint8')\n",
    "#         plt.imshow(img_ori)\n",
    "#         plt.show()\n",
    "#         plt.imshow(msk_ori)\n",
    "#         plt.show()\n",
    "\n",
    "\n",
    "\n",
    "\n",
    "        # applied augmentation on both image and mask\n",
    "        pics = np.stack((pure_img, msk_ori), axis=0)\n",
    "        aug_pics= my_aug(pics)\n",
    "        # aug_pics = augDet.augment_images(pics)\n",
    "        pure_img = aug_pics[0]\n",
    "        msk      = aug_pics[1]\n",
    "#         plt.imshow(pure_img)\n",
    "#         plt.show()\n",
    "#         plt.imshow(msk)\n",
    "#         plt.show()\n",
    "\n",
    "\n",
    "\n",
    "        # random choose x_position_left and y_position_left to spread \n",
    "        x_start = random.randint(0,img_paper.shape[0]-pure_img.shape[0])\n",
    "        y_start = random.randint(0,img_paper.shape[1]-pure_img.shape[1])\n",
    "        x_end = x_start+pure_img.shape[0]\n",
    "        y_end = y_start+pure_img.shape[1]\n",
    "\n",
    "        if np.all(img_paper[x_start:x_end, y_start:y_end, :]==0) :\n",
    "\n",
    "\n",
    "            # spread pure_image on image_paper\n",
    "            img_paper[x_start:x_end, y_start:y_end, :] =\\\n",
    "            pure_img\n",
    "            # img_paper[x_start:x_end, y_start:y_end, :] + pure_img\n",
    "\n",
    "            # spread mask on mask_paper\n",
    "            msk_paper[x_start:x_end, y_start:y_end, :] =\\\n",
    "            msk\n",
    "            n_mask_paper = np.zeros(shape=(msk_paper.shape), dtype='uint8')\n",
    "            n_mask_paper[x_start:x_end, y_start:y_end, :] =\\\n",
    "            msk\n",
    "            n_mask_list.append(n_mask_paper)\n",
    "            # msk_paper[x_start:x_end, y_start:y_end, :] + msk\n",
    "\n",
    "            # spread pure_imgae on background_paer according to mask_paper \n",
    "            bg_paper[msk_paper == 255]=img_paper[msk_paper == 255]\n",
    "#             plt.imshow(img_paper)\n",
    "#             plt.show()\n",
    "#             plt.imshow(msk_paper)\n",
    "#             plt.show()\n",
    "#             plt.imshow(bg_paper)\n",
    "#             plt.show()\n",
    "        else:\n",
    "            bump+=1\n",
    "\n",
    "\n",
    "        print('\\tbump/bump_tolerance: %d/%d' % (bump, bump_tolerance), end = '\\r')\n",
    "    return bg_paper, msk_paper, n_mask_list"
   ]
  },
  {
   "cell_type": "code",
   "execution_count": 5,
   "metadata": {
    "collapsed": true
   },
   "outputs": [],
   "source": [
    "IMG_DIR = '../moth/material_for_random_spread/image/'\n",
    "MSK_DIR = '../moth/material_for_random_spread/mask/'\n",
    "BG_DIR = '../moth/material_for_random_spread/background/'\n",
    "n_to_create = 100"
   ]
  },
  {
   "cell_type": "code",
   "execution_count": 8,
   "metadata": {},
   "outputs": [
    {
     "name": "stdout",
     "output_type": "stream",
     "text": [
      "process: 0/100\n",
      "process: 1/100erance: 5/5\n",
      "\tbump/bump_tolerance: 5/5\r"
     ]
    },
    {
     "name": "stderr",
     "output_type": "stream",
     "text": [
      "/usr/local/lib/python3.5/dist-packages/skimage/io/_io.py:132: UserWarning: ../moth/random_spread/annotations/random_spread_1_moth_0.png is a low contrast image\n",
      "  warn('%s is a low contrast image' % fname)\n",
      "/usr/local/lib/python3.5/dist-packages/skimage/io/_io.py:132: UserWarning: ../moth/random_spread/annotations/random_spread_1_moth_2.png is a low contrast image\n",
      "  warn('%s is a low contrast image' % fname)\n",
      "/usr/local/lib/python3.5/dist-packages/skimage/io/_io.py:132: UserWarning: ../moth/random_spread/annotations/random_spread_1_moth_3.png is a low contrast image\n",
      "  warn('%s is a low contrast image' % fname)\n"
     ]
    },
    {
     "name": "stdout",
     "output_type": "stream",
     "text": [
      "process: 2/100\n",
      "\tbump/bump_tolerance: 5/5\r"
     ]
    },
    {
     "name": "stderr",
     "output_type": "stream",
     "text": [
      "/usr/local/lib/python3.5/dist-packages/skimage/io/_io.py:132: UserWarning: ../moth/random_spread/annotations/random_spread_2_moth_2.png is a low contrast image\n",
      "  warn('%s is a low contrast image' % fname)\n",
      "/usr/local/lib/python3.5/dist-packages/skimage/io/_io.py:132: UserWarning: ../moth/random_spread/annotations/random_spread_2_moth_4.png is a low contrast image\n",
      "  warn('%s is a low contrast image' % fname)\n",
      "/usr/local/lib/python3.5/dist-packages/skimage/io/_io.py:132: UserWarning: ../moth/random_spread/annotations/random_spread_2_moth_5.png is a low contrast image\n",
      "  warn('%s is a low contrast image' % fname)\n",
      "/usr/local/lib/python3.5/dist-packages/skimage/io/_io.py:132: UserWarning: ../moth/random_spread/annotations/random_spread_2_moth_6.png is a low contrast image\n",
      "  warn('%s is a low contrast image' % fname)\n"
     ]
    },
    {
     "name": "stdout",
     "output_type": "stream",
     "text": [
      "process: 3/100\n",
      "\tbump/bump_tolerance: 5/5\r"
     ]
    },
    {
     "name": "stderr",
     "output_type": "stream",
     "text": [
      "/usr/local/lib/python3.5/dist-packages/skimage/io/_io.py:132: UserWarning: ../moth/random_spread/annotations/random_spread_3_moth_1.png is a low contrast image\n",
      "  warn('%s is a low contrast image' % fname)\n",
      "/usr/local/lib/python3.5/dist-packages/skimage/io/_io.py:132: UserWarning: ../moth/random_spread/annotations/random_spread_3_moth_3.png is a low contrast image\n",
      "  warn('%s is a low contrast image' % fname)\n",
      "/usr/local/lib/python3.5/dist-packages/skimage/io/_io.py:132: UserWarning: ../moth/random_spread/annotations/random_spread_3_moth_4.png is a low contrast image\n",
      "  warn('%s is a low contrast image' % fname)\n",
      "/usr/local/lib/python3.5/dist-packages/skimage/io/_io.py:132: UserWarning: ../moth/random_spread/annotations/random_spread_3_moth_6.png is a low contrast image\n",
      "  warn('%s is a low contrast image' % fname)\n",
      "/usr/local/lib/python3.5/dist-packages/skimage/io/_io.py:132: UserWarning: ../moth/random_spread/annotations/random_spread_3_moth_8.png is a low contrast image\n",
      "  warn('%s is a low contrast image' % fname)\n"
     ]
    },
    {
     "name": "stdout",
     "output_type": "stream",
     "text": [
      "process: 4/100\n",
      "\tbump/bump_tolerance: 5/5\r"
     ]
    },
    {
     "name": "stderr",
     "output_type": "stream",
     "text": [
      "/usr/local/lib/python3.5/dist-packages/skimage/io/_io.py:132: UserWarning: ../moth/random_spread/annotations/random_spread_4_moth_1.png is a low contrast image\n",
      "  warn('%s is a low contrast image' % fname)\n",
      "/usr/local/lib/python3.5/dist-packages/skimage/io/_io.py:132: UserWarning: ../moth/random_spread/annotations/random_spread_4_moth_3.png is a low contrast image\n",
      "  warn('%s is a low contrast image' % fname)\n",
      "/usr/local/lib/python3.5/dist-packages/skimage/io/_io.py:132: UserWarning: ../moth/random_spread/annotations/random_spread_4_moth_4.png is a low contrast image\n",
      "  warn('%s is a low contrast image' % fname)\n",
      "/usr/local/lib/python3.5/dist-packages/skimage/io/_io.py:132: UserWarning: ../moth/random_spread/annotations/random_spread_4_moth_5.png is a low contrast image\n",
      "  warn('%s is a low contrast image' % fname)\n",
      "/usr/local/lib/python3.5/dist-packages/skimage/io/_io.py:132: UserWarning: ../moth/random_spread/annotations/random_spread_4_moth_6.png is a low contrast image\n",
      "  warn('%s is a low contrast image' % fname)\n"
     ]
    },
    {
     "name": "stdout",
     "output_type": "stream",
     "text": [
      "process: 5/100\n",
      "\tbump/bump_tolerance: 5/5\r"
     ]
    },
    {
     "name": "stderr",
     "output_type": "stream",
     "text": [
      "/usr/local/lib/python3.5/dist-packages/skimage/io/_io.py:132: UserWarning: ../moth/random_spread/annotations/random_spread_5_moth_2.png is a low contrast image\n",
      "  warn('%s is a low contrast image' % fname)\n",
      "/usr/local/lib/python3.5/dist-packages/skimage/io/_io.py:132: UserWarning: ../moth/random_spread/annotations/random_spread_5_moth_3.png is a low contrast image\n",
      "  warn('%s is a low contrast image' % fname)\n",
      "/usr/local/lib/python3.5/dist-packages/skimage/io/_io.py:132: UserWarning: ../moth/random_spread/annotations/random_spread_5_moth_4.png is a low contrast image\n",
      "  warn('%s is a low contrast image' % fname)\n",
      "/usr/local/lib/python3.5/dist-packages/skimage/io/_io.py:132: UserWarning: ../moth/random_spread/annotations/random_spread_5_moth_5.png is a low contrast image\n",
      "  warn('%s is a low contrast image' % fname)\n",
      "/usr/local/lib/python3.5/dist-packages/skimage/io/_io.py:132: UserWarning: ../moth/random_spread/annotations/random_spread_5_moth_6.png is a low contrast image\n",
      "  warn('%s is a low contrast image' % fname)\n",
      "/usr/local/lib/python3.5/dist-packages/skimage/io/_io.py:132: UserWarning: ../moth/random_spread/annotations/random_spread_5_moth_7.png is a low contrast image\n",
      "  warn('%s is a low contrast image' % fname)\n"
     ]
    },
    {
     "name": "stdout",
     "output_type": "stream",
     "text": [
      "process: 6/100\n",
      "\tbump/bump_tolerance: 5/5\r"
     ]
    },
    {
     "name": "stderr",
     "output_type": "stream",
     "text": [
      "/usr/local/lib/python3.5/dist-packages/skimage/io/_io.py:132: UserWarning: ../moth/random_spread/annotations/random_spread_6_moth_0.png is a low contrast image\n",
      "  warn('%s is a low contrast image' % fname)\n",
      "/usr/local/lib/python3.5/dist-packages/skimage/io/_io.py:132: UserWarning: ../moth/random_spread/annotations/random_spread_6_moth_1.png is a low contrast image\n",
      "  warn('%s is a low contrast image' % fname)\n",
      "/usr/local/lib/python3.5/dist-packages/skimage/io/_io.py:132: UserWarning: ../moth/random_spread/annotations/random_spread_6_moth_2.png is a low contrast image\n",
      "  warn('%s is a low contrast image' % fname)\n",
      "/usr/local/lib/python3.5/dist-packages/skimage/io/_io.py:132: UserWarning: ../moth/random_spread/annotations/random_spread_6_moth_3.png is a low contrast image\n",
      "  warn('%s is a low contrast image' % fname)\n",
      "/usr/local/lib/python3.5/dist-packages/skimage/io/_io.py:132: UserWarning: ../moth/random_spread/annotations/random_spread_6_moth_4.png is a low contrast image\n",
      "  warn('%s is a low contrast image' % fname)\n",
      "/usr/local/lib/python3.5/dist-packages/skimage/io/_io.py:132: UserWarning: ../moth/random_spread/annotations/random_spread_6_moth_5.png is a low contrast image\n",
      "  warn('%s is a low contrast image' % fname)\n",
      "/usr/local/lib/python3.5/dist-packages/skimage/io/_io.py:132: UserWarning: ../moth/random_spread/annotations/random_spread_6_moth_6.png is a low contrast image\n",
      "  warn('%s is a low contrast image' % fname)\n",
      "/usr/local/lib/python3.5/dist-packages/skimage/io/_io.py:132: UserWarning: ../moth/random_spread/annotations/random_spread_6_moth_7.png is a low contrast image\n",
      "  warn('%s is a low contrast image' % fname)\n",
      "/usr/local/lib/python3.5/dist-packages/skimage/io/_io.py:132: UserWarning: ../moth/random_spread/annotations/random_spread_6_moth_8.png is a low contrast image\n",
      "  warn('%s is a low contrast image' % fname)\n"
     ]
    },
    {
     "name": "stdout",
     "output_type": "stream",
     "text": [
      "process: 7/100\n",
      "process: 8/100erance: 5/5\n",
      "\tbump/bump_tolerance: 5/5\r"
     ]
    },
    {
     "name": "stderr",
     "output_type": "stream",
     "text": [
      "/usr/local/lib/python3.5/dist-packages/skimage/io/_io.py:132: UserWarning: ../moth/random_spread/annotations/random_spread_8_moth_1.png is a low contrast image\n",
      "  warn('%s is a low contrast image' % fname)\n",
      "/usr/local/lib/python3.5/dist-packages/skimage/io/_io.py:132: UserWarning: ../moth/random_spread/annotations/random_spread_8_moth_3.png is a low contrast image\n",
      "  warn('%s is a low contrast image' % fname)\n",
      "/usr/local/lib/python3.5/dist-packages/skimage/io/_io.py:132: UserWarning: ../moth/random_spread/annotations/random_spread_8_moth_5.png is a low contrast image\n",
      "  warn('%s is a low contrast image' % fname)\n",
      "/usr/local/lib/python3.5/dist-packages/skimage/io/_io.py:132: UserWarning: ../moth/random_spread/annotations/random_spread_8_moth_6.png is a low contrast image\n",
      "  warn('%s is a low contrast image' % fname)\n",
      "/usr/local/lib/python3.5/dist-packages/skimage/io/_io.py:132: UserWarning: ../moth/random_spread/annotations/random_spread_8_moth_7.png is a low contrast image\n",
      "  warn('%s is a low contrast image' % fname)\n"
     ]
    },
    {
     "name": "stdout",
     "output_type": "stream",
     "text": [
      "process: 9/100\n",
      "\tbump/bump_tolerance: 5/5\r"
     ]
    },
    {
     "name": "stderr",
     "output_type": "stream",
     "text": [
      "/usr/local/lib/python3.5/dist-packages/skimage/io/_io.py:132: UserWarning: ../moth/random_spread/annotations/random_spread_9_moth_1.png is a low contrast image\n",
      "  warn('%s is a low contrast image' % fname)\n",
      "/usr/local/lib/python3.5/dist-packages/skimage/io/_io.py:132: UserWarning: ../moth/random_spread/annotations/random_spread_9_moth_2.png is a low contrast image\n",
      "  warn('%s is a low contrast image' % fname)\n",
      "/usr/local/lib/python3.5/dist-packages/skimage/io/_io.py:132: UserWarning: ../moth/random_spread/annotations/random_spread_9_moth_3.png is a low contrast image\n",
      "  warn('%s is a low contrast image' % fname)\n",
      "/usr/local/lib/python3.5/dist-packages/skimage/io/_io.py:132: UserWarning: ../moth/random_spread/annotations/random_spread_9_moth_4.png is a low contrast image\n",
      "  warn('%s is a low contrast image' % fname)\n",
      "/usr/local/lib/python3.5/dist-packages/skimage/io/_io.py:132: UserWarning: ../moth/random_spread/annotations/random_spread_9_moth_5.png is a low contrast image\n",
      "  warn('%s is a low contrast image' % fname)\n"
     ]
    },
    {
     "name": "stdout",
     "output_type": "stream",
     "text": [
      "process: 10/100\n",
      "\tbump/bump_tolerance: 5/5\r"
     ]
    },
    {
     "name": "stderr",
     "output_type": "stream",
     "text": [
      "/usr/local/lib/python3.5/dist-packages/skimage/io/_io.py:132: UserWarning: ../moth/random_spread/annotations/random_spread_10_moth_2.png is a low contrast image\n",
      "  warn('%s is a low contrast image' % fname)\n",
      "/usr/local/lib/python3.5/dist-packages/skimage/io/_io.py:132: UserWarning: ../moth/random_spread/annotations/random_spread_10_moth_3.png is a low contrast image\n",
      "  warn('%s is a low contrast image' % fname)\n",
      "/usr/local/lib/python3.5/dist-packages/skimage/io/_io.py:132: UserWarning: ../moth/random_spread/annotations/random_spread_10_moth_4.png is a low contrast image\n",
      "  warn('%s is a low contrast image' % fname)\n",
      "/usr/local/lib/python3.5/dist-packages/skimage/io/_io.py:132: UserWarning: ../moth/random_spread/annotations/random_spread_10_moth_5.png is a low contrast image\n",
      "  warn('%s is a low contrast image' % fname)\n",
      "/usr/local/lib/python3.5/dist-packages/skimage/io/_io.py:132: UserWarning: ../moth/random_spread/annotations/random_spread_10_moth_6.png is a low contrast image\n",
      "  warn('%s is a low contrast image' % fname)\n"
     ]
    },
    {
     "name": "stdout",
     "output_type": "stream",
     "text": [
      "process: 11/100\n",
      "\tbump/bump_tolerance: 5/5\r"
     ]
    },
    {
     "name": "stderr",
     "output_type": "stream",
     "text": [
      "/usr/local/lib/python3.5/dist-packages/skimage/io/_io.py:132: UserWarning: ../moth/random_spread/annotations/random_spread_11_moth_0.png is a low contrast image\n",
      "  warn('%s is a low contrast image' % fname)\n",
      "/usr/local/lib/python3.5/dist-packages/skimage/io/_io.py:132: UserWarning: ../moth/random_spread/annotations/random_spread_11_moth_1.png is a low contrast image\n",
      "  warn('%s is a low contrast image' % fname)\n",
      "/usr/local/lib/python3.5/dist-packages/skimage/io/_io.py:132: UserWarning: ../moth/random_spread/annotations/random_spread_11_moth_2.png is a low contrast image\n",
      "  warn('%s is a low contrast image' % fname)\n",
      "/usr/local/lib/python3.5/dist-packages/skimage/io/_io.py:132: UserWarning: ../moth/random_spread/annotations/random_spread_11_moth_5.png is a low contrast image\n",
      "  warn('%s is a low contrast image' % fname)\n",
      "/usr/local/lib/python3.5/dist-packages/skimage/io/_io.py:132: UserWarning: ../moth/random_spread/annotations/random_spread_11_moth_6.png is a low contrast image\n",
      "  warn('%s is a low contrast image' % fname)\n",
      "/usr/local/lib/python3.5/dist-packages/skimage/io/_io.py:132: UserWarning: ../moth/random_spread/annotations/random_spread_11_moth_7.png is a low contrast image\n",
      "  warn('%s is a low contrast image' % fname)\n"
     ]
    },
    {
     "name": "stdout",
     "output_type": "stream",
     "text": [
      "process: 12/100\n",
      "\tbump/bump_tolerance: 5/5\r"
     ]
    },
    {
     "name": "stderr",
     "output_type": "stream",
     "text": [
      "/usr/local/lib/python3.5/dist-packages/skimage/io/_io.py:132: UserWarning: ../moth/random_spread/annotations/random_spread_12_moth_0.png is a low contrast image\n",
      "  warn('%s is a low contrast image' % fname)\n",
      "/usr/local/lib/python3.5/dist-packages/skimage/io/_io.py:132: UserWarning: ../moth/random_spread/annotations/random_spread_12_moth_2.png is a low contrast image\n",
      "  warn('%s is a low contrast image' % fname)\n",
      "/usr/local/lib/python3.5/dist-packages/skimage/io/_io.py:132: UserWarning: ../moth/random_spread/annotations/random_spread_12_moth_3.png is a low contrast image\n",
      "  warn('%s is a low contrast image' % fname)\n",
      "/usr/local/lib/python3.5/dist-packages/skimage/io/_io.py:132: UserWarning: ../moth/random_spread/annotations/random_spread_12_moth_5.png is a low contrast image\n",
      "  warn('%s is a low contrast image' % fname)\n"
     ]
    },
    {
     "name": "stdout",
     "output_type": "stream",
     "text": [
      "process: 13/100\n",
      "\tbump/bump_tolerance: 5/5\r"
     ]
    },
    {
     "name": "stderr",
     "output_type": "stream",
     "text": [
      "/usr/local/lib/python3.5/dist-packages/skimage/io/_io.py:132: UserWarning: ../moth/random_spread/annotations/random_spread_13_moth_1.png is a low contrast image\n",
      "  warn('%s is a low contrast image' % fname)\n",
      "/usr/local/lib/python3.5/dist-packages/skimage/io/_io.py:132: UserWarning: ../moth/random_spread/annotations/random_spread_13_moth_5.png is a low contrast image\n",
      "  warn('%s is a low contrast image' % fname)\n"
     ]
    },
    {
     "name": "stdout",
     "output_type": "stream",
     "text": [
      "process: 14/100\n",
      "\tbump/bump_tolerance: 5/5\r"
     ]
    },
    {
     "name": "stderr",
     "output_type": "stream",
     "text": [
      "/usr/local/lib/python3.5/dist-packages/skimage/io/_io.py:132: UserWarning: ../moth/random_spread/annotations/random_spread_14_moth_1.png is a low contrast image\n",
      "  warn('%s is a low contrast image' % fname)\n",
      "/usr/local/lib/python3.5/dist-packages/skimage/io/_io.py:132: UserWarning: ../moth/random_spread/annotations/random_spread_14_moth_2.png is a low contrast image\n",
      "  warn('%s is a low contrast image' % fname)\n",
      "/usr/local/lib/python3.5/dist-packages/skimage/io/_io.py:132: UserWarning: ../moth/random_spread/annotations/random_spread_14_moth_4.png is a low contrast image\n",
      "  warn('%s is a low contrast image' % fname)\n"
     ]
    },
    {
     "name": "stdout",
     "output_type": "stream",
     "text": [
      "process: 15/100\n",
      "\tbump/bump_tolerance: 3/5\r"
     ]
    },
    {
     "ename": "KeyboardInterrupt",
     "evalue": "",
     "output_type": "error",
     "traceback": [
      "\u001b[0;31m---------------------------------------------------------------------------\u001b[0m",
      "\u001b[0;31mKeyboardInterrupt\u001b[0m                         Traceback (most recent call last)",
      "\u001b[0;32m<ipython-input-8-9e7ce032182e>\u001b[0m in \u001b[0;36m<module>\u001b[0;34m()\u001b[0m\n\u001b[1;32m     19\u001b[0m \u001b[0;34m\u001b[0m\u001b[0m\n\u001b[1;32m     20\u001b[0m     \u001b[0mbump\u001b[0m \u001b[0;34m=\u001b[0m \u001b[0;36m0\u001b[0m\u001b[0;34m\u001b[0m\u001b[0m\n\u001b[0;32m---> 21\u001b[0;31m     \u001b[0mX\u001b[0m\u001b[0;34m,\u001b[0m \u001b[0mY\u001b[0m\u001b[0;34m,\u001b[0m \u001b[0mYs\u001b[0m \u001b[0;34m=\u001b[0m \u001b[0mrandom_spread\u001b[0m\u001b[0;34m(\u001b[0m\u001b[0mIMG_DIR\u001b[0m\u001b[0;34m,\u001b[0m \u001b[0mMSK_DIR\u001b[0m\u001b[0;34m,\u001b[0m \u001b[0mbg_paper\u001b[0m\u001b[0;34m,\u001b[0m \u001b[0mbump\u001b[0m\u001b[0;34m,\u001b[0m \u001b[0mbump_tolerance\u001b[0m \u001b[0;34m=\u001b[0m \u001b[0;36m5\u001b[0m\u001b[0;34m)\u001b[0m\u001b[0;34m\u001b[0m\u001b[0m\n\u001b[0m\u001b[1;32m     22\u001b[0m \u001b[0;34m\u001b[0m\u001b[0m\n\u001b[1;32m     23\u001b[0m     \u001b[0;31m# save for preparing coco dataset format\u001b[0m\u001b[0;34m\u001b[0m\u001b[0;34m\u001b[0m\u001b[0m\n",
      "\u001b[0;32m<ipython-input-4-852386fc5d17>\u001b[0m in \u001b[0;36mrandom_spread\u001b[0;34m(IMG_DIR, MSK_DIR, bg_paper, bump, bump_tolerance)\u001b[0m\n\u001b[1;32m     57\u001b[0m \u001b[0;34m\u001b[0m\u001b[0m\n\u001b[1;32m     58\u001b[0m             \u001b[0;31m# spread pure_imgae on background_paer according to mask_paper\u001b[0m\u001b[0;34m\u001b[0m\u001b[0;34m\u001b[0m\u001b[0m\n\u001b[0;32m---> 59\u001b[0;31m             \u001b[0mbg_paper\u001b[0m\u001b[0;34m[\u001b[0m\u001b[0mmsk_paper\u001b[0m \u001b[0;34m==\u001b[0m \u001b[0;36m255\u001b[0m\u001b[0;34m]\u001b[0m\u001b[0;34m=\u001b[0m\u001b[0mimg_paper\u001b[0m\u001b[0;34m[\u001b[0m\u001b[0mmsk_paper\u001b[0m \u001b[0;34m==\u001b[0m \u001b[0;36m255\u001b[0m\u001b[0;34m]\u001b[0m\u001b[0;34m\u001b[0m\u001b[0m\n\u001b[0m\u001b[1;32m     60\u001b[0m \u001b[0;31m#             plt.imshow(img_paper)\u001b[0m\u001b[0;34m\u001b[0m\u001b[0;34m\u001b[0m\u001b[0m\n\u001b[1;32m     61\u001b[0m \u001b[0;31m#             plt.show()\u001b[0m\u001b[0;34m\u001b[0m\u001b[0;34m\u001b[0m\u001b[0m\n",
      "\u001b[0;31mKeyboardInterrupt\u001b[0m: "
     ]
    },
    {
     "data": {
      "image/png": "[encoded data removed]",
      "text/plain": [
       "<matplotlib.figure.Figure at 0x7f033f3da710>"
      ]
     },
     "metadata": {},
     "output_type": "display_data"
    }
   ],
   "source": [
    "for i in range(n_to_create):\n",
    "    print('process: %d/%d' % (i, n_to_create))\n",
    "    set_name = 'random_spread_%d' % (i)\n",
    "\n",
    "    h_r = random.uniform(0.8, 3)\n",
    "    w_r = random.uniform(0.8, 3)\n",
    "    bg_h=int(np.floor(2000 * h_r))\n",
    "    bg_w=int(np.floor(2000 * w_r))\n",
    "\n",
    "    bg_ids    = os.listdir(BG_DIR)\n",
    "    bg_id     = random.choice(bg_ids)\n",
    "    img_paper = np.zeros(shape=(bg_h, bg_w, 3), dtype='uint8')\n",
    "    msk_paper = img_paper.copy()\n",
    "    bg_paper  = io.imread(os.path.join(BG_DIR, bg_id))\n",
    "    bg_paper  = resize(bg_paper, (bg_h, bg_w, 3), mode='constant')\n",
    "    bg_paper  = (bg_paper*255).astype('uint8')\n",
    "    plt.imshow(bg_paper)\n",
    "\n",
    "\n",
    "    bump = 0\n",
    "    X, Y, Ys = random_spread(IMG_DIR, MSK_DIR, bg_paper, bump, bump_tolerance = 5)\n",
    "    \n",
    "    # save for preparing coco dataset format\n",
    "    X_path = '../moth/random_spread/random_spread/'\n",
    "    io.imsave(os.path.join(X_path, '%s.jpg' %(set_name)), X)\n",
    "\n",
    "    Y_path = '../moth/random_spread/annotations/'\n",
    "    for i in range(len(Ys)):\n",
    "        io.imsave(os.path.join(Y_path,'%s_moth_%d.png' %(set_name, i)), Ys[i][:,:,0])\n",
    "        \n",
    "    "
   ]
  },
  {
   "cell_type": "code",
   "execution_count": 10,
   "metadata": {
    "collapsed": true
   },
   "outputs": [],
   "source": [
    "i = 0"
   ]
  },
  {
   "cell_type": "code",
   "execution_count": 12,
   "metadata": {
    "collapsed": true
   },
   "outputs": [],
   "source": [
    "io.imsave(os.path.join(X_path, '%sKKKKKKKKKKKKKKKKKKKKKKKKKKKKKk.jpg' %(set_name)), X)"
   ]
  },
  {
   "cell_type": "code",
   "execution_count": 11,
   "metadata": {},
   "outputs": [],
   "source": [
    "io.imsave(os.path.join(Y_path,'%s_KKKKKKKKKKKKKKKKKKKKKK_%d.png' %(set_name, i)), Ys[i][:,:,0])"
   ]
  }
 ],
 "metadata": {
  "kernelspec": {
   "display_name": "Python 3",
   "language": "python",
   "name": "python3"
  },
  "language_info": {
   "codemirror_mode": {
    "name": "ipython",
    "version": 3
   },
   "file_extension": ".py",
   "mimetype": "text/x-python",
   "name": "python",
   "nbconvert_exporter": "python",
   "pygments_lexer": "ipython3",
   "version": "3.5.2"
  }
 },
 "nbformat": 4,
 "nbformat_minor": 2
}
