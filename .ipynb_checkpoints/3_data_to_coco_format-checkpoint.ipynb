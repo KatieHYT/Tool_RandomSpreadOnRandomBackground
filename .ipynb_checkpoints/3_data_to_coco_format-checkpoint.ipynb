{
 "cells": [
  {
   "cell_type": "code",
   "execution_count": 1,
   "metadata": {
    "collapsed": true
   },
   "outputs": [],
   "source": [
    "# %load shapes_to_coco.py\n",
    "#!/usr/bin/env python3\n",
    "\n",
    "import datetime\n",
    "import json\n",
    "import os\n",
    "import re\n",
    "import fnmatch\n",
    "from PIL import Image\n",
    "import numpy as np\n",
    "from pycococreatortools import pycococreatortools"
   ]
  },
  {
   "cell_type": "code",
   "execution_count": 9,
   "metadata": {
    "collapsed": true
   },
   "outputs": [],
   "source": [
    "ROOT_DIR = 'train'\n",
    "IMAGE_DIR = os.path.join(ROOT_DIR, \"moth_train_test1\")\n",
    "ANNOTATION_DIR = os.path.join(ROOT_DIR, \"annotations\")\n",
    "\n",
    "INFO = {\n",
    "    \"description\": \"Moth Dataset\",\n",
    "    \"url\": \"none\",\n",
    "    \"version\": \"0.1.0\",\n",
    "    \"year\": 2018,\n",
    "    \"contributor\": \"KatieHYT\",\n",
    "    \"date_created\": datetime.datetime.utcnow().isoformat(' ')\n",
    "}\n",
    "\n",
    "LICENSES = [\n",
    "    {\n",
    "        \"id\": 1,\n",
    "        \"name\": \"wut\",\n",
    "        \"url\": \"wut\"\n",
    "    }\n",
    "]\n",
    "\n",
    "CATEGORIES = [\n",
    "    {\n",
    "        'id': 1,\n",
    "        'name': 'moth',\n",
    "        'supercategory': 'Moth',\n",
    "    },\n",
    "  \n",
    "]"
   ]
  },
  {
   "cell_type": "code",
   "execution_count": 10,
   "metadata": {
    "collapsed": true
   },
   "outputs": [],
   "source": [
    "def filter_for_jpeg(root, files):\n",
    "    file_types = ['*.jpeg', '*.jpg']\n",
    "    file_types = r'|'.join([fnmatch.translate(x) for x in file_types])\n",
    "    files = [os.path.join(root, f) for f in files]\n",
    "    files = [f for f in files if re.match(file_types, f)]\n",
    "    \n",
    "    return files\n",
    "\n",
    "def filter_for_annotations(root, files, image_filename):\n",
    "    file_types = ['*.png']\n",
    "    file_types = r'|'.join([fnmatch.translate(x) for x in file_types])\n",
    "    basename_no_extension = os.path.splitext(os.path.basename(image_filename))[0]\n",
    "    file_name_prefix = basename_no_extension + '.*'\n",
    "    files = [os.path.join(root, f) for f in files]\n",
    "    files = [f for f in files if re.match(file_types, f)]\n",
    "    files = [f for f in files if re.match(file_name_prefix, os.path.splitext(os.path.basename(f))[0])]\n",
    "\n",
    "    return files"
   ]
  },
  {
   "cell_type": "code",
   "execution_count": 12,
   "metadata": {},
   "outputs": [
    {
     "name": "stdout",
     "output_type": "stream",
     "text": [
      "train/annotations/V23-20150619-004.png\n"
     ]
    },
    {
     "ename": "IndexError",
     "evalue": "list index out of range",
     "output_type": "error",
     "traceback": [
      "\u001b[0;31m---------------------------------------------------------------------------\u001b[0m",
      "\u001b[0;31mIndexError\u001b[0m                                Traceback (most recent call last)",
      "\u001b[0;32m<ipython-input-12-39d0e8bb8579>\u001b[0m in \u001b[0;36m<module>\u001b[0;34m()\u001b[0m\n\u001b[1;32m     29\u001b[0m \u001b[0;34m\u001b[0m\u001b[0m\n\u001b[1;32m     30\u001b[0m                 \u001b[0mprint\u001b[0m\u001b[0;34m(\u001b[0m\u001b[0mannotation_filename\u001b[0m\u001b[0;34m)\u001b[0m\u001b[0;34m\u001b[0m\u001b[0m\n\u001b[0;32m---> 31\u001b[0;31m                 \u001b[0mclass_id\u001b[0m \u001b[0;34m=\u001b[0m \u001b[0;34m[\u001b[0m\u001b[0mx\u001b[0m\u001b[0;34m[\u001b[0m\u001b[0;34m'id'\u001b[0m\u001b[0;34m]\u001b[0m \u001b[0;32mfor\u001b[0m \u001b[0mx\u001b[0m \u001b[0;32min\u001b[0m \u001b[0mCATEGORIES\u001b[0m \u001b[0;32mif\u001b[0m \u001b[0mx\u001b[0m\u001b[0;34m[\u001b[0m\u001b[0;34m'name'\u001b[0m\u001b[0;34m]\u001b[0m \u001b[0;32min\u001b[0m \u001b[0mannotation_filename\u001b[0m\u001b[0;34m]\u001b[0m\u001b[0;34m[\u001b[0m\u001b[0;36m0\u001b[0m\u001b[0;34m]\u001b[0m\u001b[0;34m\u001b[0m\u001b[0m\n\u001b[0m\u001b[1;32m     32\u001b[0m \u001b[0;34m\u001b[0m\u001b[0m\n\u001b[1;32m     33\u001b[0m                 \u001b[0mcategory_info\u001b[0m \u001b[0;34m=\u001b[0m \u001b[0;34m{\u001b[0m\u001b[0;34m'id'\u001b[0m\u001b[0;34m:\u001b[0m \u001b[0mclass_id\u001b[0m\u001b[0;34m,\u001b[0m \u001b[0;34m'is_crowd'\u001b[0m\u001b[0;34m:\u001b[0m \u001b[0;34m'crowd'\u001b[0m \u001b[0;32min\u001b[0m \u001b[0mimage_filename\u001b[0m\u001b[0;34m}\u001b[0m\u001b[0;34m\u001b[0m\u001b[0m\n",
      "\u001b[0;31mIndexError\u001b[0m: list index out of range"
     ]
    }
   ],
   "source": [
    "coco_output = {\n",
    "    \"info\": INFO,\n",
    "    \"licenses\": LICENSES,\n",
    "    \"categories\": CATEGORIES,\n",
    "    \"images\": [],\n",
    "    \"annotations\": []\n",
    "}\n",
    "\n",
    "image_id = 1\n",
    "segmentation_id = 1\n",
    "\n",
    "# filter for jpeg images\n",
    "for root, _, files in os.walk(IMAGE_DIR):\n",
    "    image_files = filter_for_jpeg(root, files)\n",
    "\n",
    "    # go through each image\n",
    "    for image_filename in image_files:\n",
    "        image = Image.open(image_filename)\n",
    "        image_info = pycococreatortools.create_image_info(\n",
    "            image_id, os.path.basename(image_filename), image.size)\n",
    "        coco_output[\"images\"].append(image_info)\n",
    "\n",
    "        # filter for associated png annotations\n",
    "        for root, _, files in os.walk(ANNOTATION_DIR):\n",
    "            annotation_files = filter_for_annotations(root, files, image_filename)\n",
    "\n",
    "            # go through each associated annotation\n",
    "            for annotation_filename in annotation_files:\n",
    "\n",
    "                print(annotation_filename)\n",
    "                class_id = [x['id'] for x in CATEGORIES if x['name'] in annotation_filename][0]\n",
    "\n",
    "                category_info = {'id': class_id, 'is_crowd': 'crowd' in image_filename}\n",
    "                binary_mask = np.asarray(Image.open(annotation_filename)\n",
    "                    .convert('1')).astype(np.uint8)\n",
    "\n",
    "                annotation_info = pycococreatortools.create_annotation_info(\n",
    "                    segmentation_id, image_id, category_info, binary_mask,\n",
    "                    image.size, tolerance=2)\n",
    "\n",
    "                if annotation_info is not None:\n",
    "                    coco_output[\"annotations\"].append(annotation_info)\n",
    "\n",
    "                segmentation_id = segmentation_id + 1\n",
    "\n",
    "        image_id = image_id + 1\n",
    "\n",
    "with open('{}/instances_shape_train2018.json'.format(ROOT_DIR), 'w') as output_json_file:\n",
    "    json.dump(coco_output, output_json_file)\n"
   ]
  }
 ],
 "metadata": {
  "kernelspec": {
   "display_name": "Python 3",
   "language": "python",
   "name": "python3"
  },
  "language_info": {
   "codemirror_mode": {
    "name": "ipython",
    "version": 3
   },
   "file_extension": ".py",
   "mimetype": "text/x-python",
   "name": "python",
   "nbconvert_exporter": "python",
   "pygments_lexer": "ipython3",
   "version": "3.5.2"
  }
 },
 "nbformat": 4,
 "nbformat_minor": 2
}
