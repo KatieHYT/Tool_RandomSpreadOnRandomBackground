{
 "cells": [
  {
   "cell_type": "code",
   "execution_count": 24,
   "metadata": {},
   "outputs": [],
   "source": [
    "import os\n",
    "import numpy as np\n",
    "import matplotlib.pyplot as plt\n",
    "import skimage.io as io\n",
    "from skimage.transform import resize\n",
    "from sklearn.model_selection import train_test_split"
   ]
  },
  {
   "cell_type": "code",
   "execution_count": 25,
   "metadata": {},
   "outputs": [],
   "source": [
    "def get_fname(full_name):\n",
    "    file_name = os.path.basename(full_name)\n",
    "    file_name = os.path.splitext(file_name)[0]\n",
    "    return file_name"
   ]
  },
  {
   "cell_type": "markdown",
   "metadata": {},
   "source": [
    "# BRCAS"
   ]
  },
  {
   "cell_type": "code",
   "execution_count": 26,
   "metadata": {},
   "outputs": [],
   "source": [
    "SAVE_DIR = '/home/put_data/moth/data/COCOdataset_format/BRCAS'"
   ]
  },
  {
   "cell_type": "code",
   "execution_count": 27,
   "metadata": {
    "code_folding": [
     0
    ]
   },
   "outputs": [],
   "source": [
    "def _get_label_path(imgdir_path, labeldir_path):\n",
    "    basename = os.path.basename(imgdir_path)\n",
    "    basename = '.'.join(basename.split('.')[:-1])\n",
    "\n",
    "    #return os.path.join(labeldir_path, basename+'.png') #multilabel.npy #mothmask.npy\n",
    "    return os.path.join(labeldir_path, basename,'mothmask.npy') #multilabel.npy #mothmask.npy"
   ]
  },
  {
   "cell_type": "code",
   "execution_count": 28,
   "metadata": {},
   "outputs": [],
   "source": [
    "BRCAS = '/home/put_data/moth/data/rename/clear/'\n",
    "LABEL = '/home/put_data/moth/data/rename/component/'"
   ]
  },
  {
   "cell_type": "code",
   "execution_count": 29,
   "metadata": {},
   "outputs": [],
   "source": [
    "moths = os.listdir(BRCAS)"
   ]
  },
  {
   "cell_type": "code",
   "execution_count": 30,
   "metadata": {},
   "outputs": [],
   "source": [
    "train_id, test_id = train_test_split(moths, test_size=0.2, random_state=27)\n",
    "#valid_id, test_id  = train_test_split(valid_id, test_size=0.9, random_state=27)"
   ]
  },
  {
   "cell_type": "code",
   "execution_count": 36,
   "metadata": {},
   "outputs": [],
   "source": [
    "DATASET_NAME = 'brcas_train'\n",
    "moths = train_id"
   ]
  },
  {
   "cell_type": "code",
   "execution_count": 37,
   "metadata": {},
   "outputs": [],
   "source": [
    "moths_path = [os.path.join(BRCAS, i) for i in moths]"
   ]
  },
  {
   "cell_type": "code",
   "execution_count": 38,
   "metadata": {},
   "outputs": [],
   "source": [
    "label_path= [_get_label_path(i, LABEL) for i in moths_path]"
   ]
  },
  {
   "cell_type": "code",
   "execution_count": 39,
   "metadata": {},
   "outputs": [],
   "source": [
    "# label = np.stack([np.load(i) for i in label_path])"
   ]
  },
  {
   "cell_type": "code",
   "execution_count": 40,
   "metadata": {},
   "outputs": [
    {
     "name": "stdout",
     "output_type": "stream",
     "text": [
      "0 / 1527\r",
      "1 / 1527\r"
     ]
    },
    {
     "name": "stderr",
     "output_type": "stream",
     "text": [
      "/usr/local/lib/python3.5/dist-packages/skimage/transform/_warps.py:84: UserWarning: The default mode, 'constant', will be changed to 'reflect' in skimage 0.15.\n",
      "  warn(\"The default mode, 'constant', will be changed to 'reflect' in \"\n",
      "/usr/local/lib/python3.5/dist-packages/skimage/util/dtype.py:122: UserWarning: Possible precision loss when converting from float64 to uint8\n",
      "  .format(dtypeobj_in, dtypeobj_out))\n",
      "/usr/local/lib/python3.5/dist-packages/skimage/util/dtype.py:122: UserWarning: Possible precision loss when converting from float64 to uint16\n",
      "  .format(dtypeobj_in, dtypeobj_out))\n"
     ]
    },
    {
     "name": "stdout",
     "output_type": "stream",
     "text": [
      "285 / 1527 / 1527/ 1527"
     ]
    },
    {
     "name": "stderr",
     "output_type": "stream",
     "text": [
      "/usr/local/lib/python3.5/dist-packages/skimage/io/_io.py:132: UserWarning: /home/put_data/moth/data/COCOdataset_format/BRCAS/brcas_train/Descoreba_alboviridis_2.jpg is a low contrast image\n",
      "  warn('%s is a low contrast image' % fname)\n"
     ]
    },
    {
     "name": "stdout",
     "output_type": "stream",
     "text": [
      "1526 / 1527/ 15271527 / 1527 / 1527 / 1527 / 1527 / 1527\r"
     ]
    }
   ],
   "source": [
    "for i in range(len(moths)):\n",
    "    print(i,'/', len(moths), end='\\r')\n",
    "    fname = moths[i]\n",
    "    img_path = moths_path[i]\n",
    "    msk_path = label_path[i]\n",
    "    img = io.imread(img_path)\n",
    "    img = resize(img, (256,256,3))\n",
    "    msk = np.load(msk_path)\n",
    "#     plt.imshow(img)\n",
    "#     plt.show()\n",
    "#     plt.imshow(msk)\n",
    "#     plt.show()\n",
    "    IMG_DIR = os.path.join(SAVE_DIR, DATASET_NAME)\n",
    "    MSK_DIR = os.path.join(SAVE_DIR, 'mask_'+DATASET_NAME)\n",
    "    if not os.path.exists(IMG_DIR):\n",
    "        os.makedirs(IMG_DIR)\n",
    "    if not os.path.exists(MSK_DIR):\n",
    "        os.makedirs(MSK_DIR)\n",
    "\n",
    "    name = get_fname(fname)\n",
    "    io.imsave(os.path.join(IMG_DIR,name+'.jpg'),img)\n",
    "    io.imsave(os.path.join(MSK_DIR,name+'_moth_0.png'),msk)"
   ]
  },
  {
   "cell_type": "markdown",
   "metadata": {
    "heading_collapsed": true
   },
   "source": [
    "# TESRI"
   ]
  },
  {
   "cell_type": "code",
   "execution_count": null,
   "metadata": {
    "hidden": true
   },
   "outputs": [],
   "source": [
    "SAVE_DIR = '/home/put_data/moth/data/COCOdataset_format/TESRI'"
   ]
  },
  {
   "cell_type": "code",
   "execution_count": 7,
   "metadata": {
    "hidden": true
   },
   "outputs": [],
   "source": [
    "TESRI = '/home/put_data/moth/data/used_data2/'\n",
    "LABEL = '/home/put_data/moth/data/used_data_mask/'"
   ]
  },
  {
   "cell_type": "code",
   "execution_count": 16,
   "metadata": {
    "hidden": true
   },
   "outputs": [],
   "source": [
    "moths = os.listdir(TESRI) "
   ]
  },
  {
   "cell_type": "code",
   "execution_count": 17,
   "metadata": {
    "hidden": true
   },
   "outputs": [],
   "source": [
    "DATASET_NAME = 'tesri'"
   ]
  },
  {
   "cell_type": "code",
   "execution_count": 18,
   "metadata": {
    "hidden": true
   },
   "outputs": [],
   "source": [
    "moths_path = [os.path.join(TESRI, i) for i in moths]"
   ]
  },
  {
   "cell_type": "code",
   "execution_count": 19,
   "metadata": {
    "hidden": true
   },
   "outputs": [],
   "source": [
    "label_path= [os.path.join(LABEL, i) for i in moths]"
   ]
  },
  {
   "cell_type": "code",
   "execution_count": 23,
   "metadata": {
    "hidden": true
   },
   "outputs": [
    {
     "name": "stdout",
     "output_type": "stream",
     "text": [
      "0 / 23202\r",
      "1 / 23202\r",
      "2 / 23202\r",
      "3 / 23202\r",
      "4 / 23202\r",
      "5 / 23202\r",
      "6 / 23202\r",
      "7 / 23202\r",
      "8 / 23202\r",
      "9 / 23202\r",
      "10 / 23202\r"
     ]
    },
    {
     "name": "stderr",
     "output_type": "stream",
     "text": [
      "/usr/local/lib/python3.5/dist-packages/skimage/transform/_warps.py:84: UserWarning: The default mode, 'constant', will be changed to 'reflect' in skimage 0.15.\n",
      "  warn(\"The default mode, 'constant', will be changed to 'reflect' in \"\n",
      "/usr/local/lib/python3.5/dist-packages/skimage/util/dtype.py:122: UserWarning: Possible precision loss when converting from float64 to uint8\n",
      "  .format(dtypeobj_in, dtypeobj_out))\n"
     ]
    },
    {
     "name": "stdout",
     "output_type": "stream",
     "text": [
      "23201 / 2320223202/ 23202/ 23202 / 23202 / 23202 / 23202 / 2320223202 / 23202 2320223202/ 23202 / 23202 2320223202/ 23202 / 23202 / 23202 23202/ 23202 23202 / 23202 23202 / 23202 / 23202/ 23202 / 23202/ 23202 / 23202 / 23202 / 2320223202 / 23202 / 23202/ 2320223202 2320223202 23202/ 23202 / 23202 23202/ 2320223202 23202 / 23202 / 232022320223202 / 23202\r"
     ]
    }
   ],
   "source": [
    "for i in range(len(moths)):\n",
    "    print(i,'/', len(moths), end='\\r')\n",
    "    fname = moths[i]\n",
    "    img_path = moths_path[i]\n",
    "    msk_path = label_path[i]\n",
    "    img = io.imread(img_path)\n",
    "    img = resize(img, (256,256,3))\n",
    "    msk = io.imread(msk_path)\n",
    "#     plt.imshow(img)\n",
    "#     plt.show()\n",
    "#     plt.imshow(msk)\n",
    "#     plt.show()\n",
    "    IMG_DIR = os.path.join(SAVE_DIR, DATASET_NAME)\n",
    "    MSK_DIR = os.path.join(SAVE_DIR, 'mask_'+DATASET_NAME)\n",
    "    if not os.path.exists(IMG_DIR):\n",
    "        os.makedirs(IMG_DIR)\n",
    "    if not os.path.exists(MSK_DIR):\n",
    "        os.makedirs(MSK_DIR)\n",
    "\n",
    "    name = get_fname(fname)\n",
    "    io.imsave(os.path.join(IMG_DIR,name+'.jpg'),img)\n",
    "    io.imsave(os.path.join(MSK_DIR,name+'_moth_0_'+name+'.png'),msk) # old data: 1 image to 1 mask"
   ]
  },
  {
   "cell_type": "code",
   "execution_count": null,
   "metadata": {
    "hidden": true
   },
   "outputs": [],
   "source": []
  }
 ],
 "metadata": {
  "kernelspec": {
   "display_name": "Python 3",
   "language": "python",
   "name": "python3"
  },
  "language_info": {
   "codemirror_mode": {
    "name": "ipython",
    "version": 3
   },
   "file_extension": ".py",
   "mimetype": "text/x-python",
   "name": "python",
   "nbconvert_exporter": "python",
   "pygments_lexer": "ipython3",
   "version": "3.5.2"
  }
 },
 "nbformat": 4,
 "nbformat_minor": 2
}
